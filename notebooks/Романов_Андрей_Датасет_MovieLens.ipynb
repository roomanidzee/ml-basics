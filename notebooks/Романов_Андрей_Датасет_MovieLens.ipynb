{
  "nbformat": 4,
  "nbformat_minor": 0,
  "metadata": {
    "colab": {
      "name": "Романов_Андрей_Датасет_MovieLens.ipynb",
      "provenance": [],
      "collapsed_sections": []
    },
    "kernelspec": {
      "name": "python3",
      "display_name": "Python 3"
    },
    "language_info": {
      "name": "python"
    }
  },
  "cells": [
    {
      "cell_type": "markdown",
      "metadata": {
        "id": "v23K5gGLZ2Gw"
      },
      "source": [
        "# Шаг №1. Описание датасета\n",
        "\n",
        "Архив содержит в себе данные о рейтингах фильмов и отзывов о них "
      ]
    },
    {
      "cell_type": "code",
      "metadata": {
        "colab": {
          "base_uri": "https://localhost:8080/"
        },
        "id": "c52inJ4baRAW",
        "outputId": "0361d483-9714-42ba-a88b-ba2ed7e9fcd9"
      },
      "source": [
        "! wget --no-check-certificate -O /tmp/dataset.zip https://files.grouplens.org/datasets/movielens/ml-latest-small.zip"
      ],
      "execution_count": 1,
      "outputs": [
        {
          "output_type": "stream",
          "text": [
            "--2021-04-01 04:36:00--  https://files.grouplens.org/datasets/movielens/ml-latest-small.zip\n",
            "Resolving files.grouplens.org (files.grouplens.org)... 128.101.65.152\n",
            "Connecting to files.grouplens.org (files.grouplens.org)|128.101.65.152|:443... connected.\n",
            "WARNING: cannot verify files.grouplens.org's certificate, issued by ‘CN=InCommon RSA Server CA,OU=InCommon,O=Internet2,L=Ann Arbor,ST=MI,C=US’:\n",
            "  Unable to locally verify the issuer's authority.\n",
            "HTTP request sent, awaiting response... 200 OK\n",
            "Length: 978202 (955K) [application/zip]\n",
            "Saving to: ‘/tmp/dataset.zip’\n",
            "\n",
            "/tmp/dataset.zip    100%[===================>] 955.28K  5.75MB/s    in 0.2s    \n",
            "\n",
            "2021-04-01 04:36:00 (5.75 MB/s) - ‘/tmp/dataset.zip’ saved [978202/978202]\n",
            "\n"
          ],
          "name": "stdout"
        }
      ]
    },
    {
      "cell_type": "code",
      "metadata": {
        "colab": {
          "base_uri": "https://localhost:8080/"
        },
        "id": "O-SEero0ab6Z",
        "outputId": "045d862b-5651-4f5b-a7e1-a2db42a028a7"
      },
      "source": [
        "! unzip /tmp/dataset.zip"
      ],
      "execution_count": 2,
      "outputs": [
        {
          "output_type": "stream",
          "text": [
            "Archive:  /tmp/dataset.zip\n",
            "   creating: ml-latest-small/\n",
            "  inflating: ml-latest-small/links.csv  \n",
            "  inflating: ml-latest-small/tags.csv  \n",
            "  inflating: ml-latest-small/ratings.csv  \n",
            "  inflating: ml-latest-small/README.txt  \n",
            "  inflating: ml-latest-small/movies.csv  \n"
          ],
          "name": "stdout"
        }
      ]
    },
    {
      "cell_type": "code",
      "metadata": {
        "id": "DJrd6R36bAU7"
      },
      "source": [
        "import pandas as pd\n",
        "import seaborn as sns"
      ],
      "execution_count": 3,
      "outputs": []
    },
    {
      "cell_type": "code",
      "metadata": {
        "id": "xV3TzWk3bIq5"
      },
      "source": [
        "tags_df = pd.read_csv('ml-latest-small/tags.csv')\n",
        "ratings_df = pd.read_csv('ml-latest-small/ratings.csv')\n",
        "movies_df = pd.read_csv('ml-latest-small/movies.csv')"
      ],
      "execution_count": 4,
      "outputs": []
    },
    {
      "cell_type": "code",
      "metadata": {
        "colab": {
          "base_uri": "https://localhost:8080/",
          "height": 420
        },
        "id": "NwrX0YjNcY_U",
        "outputId": "4a362255-6753-4d35-ecd4-dbdd17a30160"
      },
      "source": [
        "tags_df.info()\n",
        "print(\"-------------------------------------------------------------------\")\n",
        "tags_df.head()"
      ],
      "execution_count": 5,
      "outputs": [
        {
          "output_type": "stream",
          "text": [
            "<class 'pandas.core.frame.DataFrame'>\n",
            "RangeIndex: 3683 entries, 0 to 3682\n",
            "Data columns (total 4 columns):\n",
            " #   Column     Non-Null Count  Dtype \n",
            "---  ------     --------------  ----- \n",
            " 0   userId     3683 non-null   int64 \n",
            " 1   movieId    3683 non-null   int64 \n",
            " 2   tag        3683 non-null   object\n",
            " 3   timestamp  3683 non-null   int64 \n",
            "dtypes: int64(3), object(1)\n",
            "memory usage: 115.2+ KB\n",
            "-------------------------------------------------------------------\n"
          ],
          "name": "stdout"
        },
        {
          "output_type": "execute_result",
          "data": {
            "text/html": [
              "<div>\n",
              "<style scoped>\n",
              "    .dataframe tbody tr th:only-of-type {\n",
              "        vertical-align: middle;\n",
              "    }\n",
              "\n",
              "    .dataframe tbody tr th {\n",
              "        vertical-align: top;\n",
              "    }\n",
              "\n",
              "    .dataframe thead th {\n",
              "        text-align: right;\n",
              "    }\n",
              "</style>\n",
              "<table border=\"1\" class=\"dataframe\">\n",
              "  <thead>\n",
              "    <tr style=\"text-align: right;\">\n",
              "      <th></th>\n",
              "      <th>userId</th>\n",
              "      <th>movieId</th>\n",
              "      <th>tag</th>\n",
              "      <th>timestamp</th>\n",
              "    </tr>\n",
              "  </thead>\n",
              "  <tbody>\n",
              "    <tr>\n",
              "      <th>0</th>\n",
              "      <td>2</td>\n",
              "      <td>60756</td>\n",
              "      <td>funny</td>\n",
              "      <td>1445714994</td>\n",
              "    </tr>\n",
              "    <tr>\n",
              "      <th>1</th>\n",
              "      <td>2</td>\n",
              "      <td>60756</td>\n",
              "      <td>Highly quotable</td>\n",
              "      <td>1445714996</td>\n",
              "    </tr>\n",
              "    <tr>\n",
              "      <th>2</th>\n",
              "      <td>2</td>\n",
              "      <td>60756</td>\n",
              "      <td>will ferrell</td>\n",
              "      <td>1445714992</td>\n",
              "    </tr>\n",
              "    <tr>\n",
              "      <th>3</th>\n",
              "      <td>2</td>\n",
              "      <td>89774</td>\n",
              "      <td>Boxing story</td>\n",
              "      <td>1445715207</td>\n",
              "    </tr>\n",
              "    <tr>\n",
              "      <th>4</th>\n",
              "      <td>2</td>\n",
              "      <td>89774</td>\n",
              "      <td>MMA</td>\n",
              "      <td>1445715200</td>\n",
              "    </tr>\n",
              "  </tbody>\n",
              "</table>\n",
              "</div>"
            ],
            "text/plain": [
              "   userId  movieId              tag   timestamp\n",
              "0       2    60756            funny  1445714994\n",
              "1       2    60756  Highly quotable  1445714996\n",
              "2       2    60756     will ferrell  1445714992\n",
              "3       2    89774     Boxing story  1445715207\n",
              "4       2    89774              MMA  1445715200"
            ]
          },
          "metadata": {
            "tags": []
          },
          "execution_count": 5
        }
      ]
    },
    {
      "cell_type": "code",
      "metadata": {
        "colab": {
          "base_uri": "https://localhost:8080/",
          "height": 420
        },
        "id": "3qkJfpgGcnZ5",
        "outputId": "e1675b4e-d8af-4c3a-e4d5-be2de10a6e38"
      },
      "source": [
        "ratings_df.info()\n",
        "print(\"-------------------------------------------------------------------\")\n",
        "ratings_df.head()"
      ],
      "execution_count": 6,
      "outputs": [
        {
          "output_type": "stream",
          "text": [
            "<class 'pandas.core.frame.DataFrame'>\n",
            "RangeIndex: 100836 entries, 0 to 100835\n",
            "Data columns (total 4 columns):\n",
            " #   Column     Non-Null Count   Dtype  \n",
            "---  ------     --------------   -----  \n",
            " 0   userId     100836 non-null  int64  \n",
            " 1   movieId    100836 non-null  int64  \n",
            " 2   rating     100836 non-null  float64\n",
            " 3   timestamp  100836 non-null  int64  \n",
            "dtypes: float64(1), int64(3)\n",
            "memory usage: 3.1 MB\n",
            "-------------------------------------------------------------------\n"
          ],
          "name": "stdout"
        },
        {
          "output_type": "execute_result",
          "data": {
            "text/html": [
              "<div>\n",
              "<style scoped>\n",
              "    .dataframe tbody tr th:only-of-type {\n",
              "        vertical-align: middle;\n",
              "    }\n",
              "\n",
              "    .dataframe tbody tr th {\n",
              "        vertical-align: top;\n",
              "    }\n",
              "\n",
              "    .dataframe thead th {\n",
              "        text-align: right;\n",
              "    }\n",
              "</style>\n",
              "<table border=\"1\" class=\"dataframe\">\n",
              "  <thead>\n",
              "    <tr style=\"text-align: right;\">\n",
              "      <th></th>\n",
              "      <th>userId</th>\n",
              "      <th>movieId</th>\n",
              "      <th>rating</th>\n",
              "      <th>timestamp</th>\n",
              "    </tr>\n",
              "  </thead>\n",
              "  <tbody>\n",
              "    <tr>\n",
              "      <th>0</th>\n",
              "      <td>1</td>\n",
              "      <td>1</td>\n",
              "      <td>4.0</td>\n",
              "      <td>964982703</td>\n",
              "    </tr>\n",
              "    <tr>\n",
              "      <th>1</th>\n",
              "      <td>1</td>\n",
              "      <td>3</td>\n",
              "      <td>4.0</td>\n",
              "      <td>964981247</td>\n",
              "    </tr>\n",
              "    <tr>\n",
              "      <th>2</th>\n",
              "      <td>1</td>\n",
              "      <td>6</td>\n",
              "      <td>4.0</td>\n",
              "      <td>964982224</td>\n",
              "    </tr>\n",
              "    <tr>\n",
              "      <th>3</th>\n",
              "      <td>1</td>\n",
              "      <td>47</td>\n",
              "      <td>5.0</td>\n",
              "      <td>964983815</td>\n",
              "    </tr>\n",
              "    <tr>\n",
              "      <th>4</th>\n",
              "      <td>1</td>\n",
              "      <td>50</td>\n",
              "      <td>5.0</td>\n",
              "      <td>964982931</td>\n",
              "    </tr>\n",
              "  </tbody>\n",
              "</table>\n",
              "</div>"
            ],
            "text/plain": [
              "   userId  movieId  rating  timestamp\n",
              "0       1        1     4.0  964982703\n",
              "1       1        3     4.0  964981247\n",
              "2       1        6     4.0  964982224\n",
              "3       1       47     5.0  964983815\n",
              "4       1       50     5.0  964982931"
            ]
          },
          "metadata": {
            "tags": []
          },
          "execution_count": 6
        }
      ]
    },
    {
      "cell_type": "code",
      "metadata": {
        "colab": {
          "base_uri": "https://localhost:8080/",
          "height": 402
        },
        "id": "d_Dgw6y6czer",
        "outputId": "68ac0f6c-fc1b-43fc-e648-fc67cf77d0f4"
      },
      "source": [
        "movies_df.info()\n",
        "print(\"-------------------------------------------------------------------\")\n",
        "movies_df.head()"
      ],
      "execution_count": 7,
      "outputs": [
        {
          "output_type": "stream",
          "text": [
            "<class 'pandas.core.frame.DataFrame'>\n",
            "RangeIndex: 9742 entries, 0 to 9741\n",
            "Data columns (total 3 columns):\n",
            " #   Column   Non-Null Count  Dtype \n",
            "---  ------   --------------  ----- \n",
            " 0   movieId  9742 non-null   int64 \n",
            " 1   title    9742 non-null   object\n",
            " 2   genres   9742 non-null   object\n",
            "dtypes: int64(1), object(2)\n",
            "memory usage: 228.5+ KB\n",
            "-------------------------------------------------------------------\n"
          ],
          "name": "stdout"
        },
        {
          "output_type": "execute_result",
          "data": {
            "text/html": [
              "<div>\n",
              "<style scoped>\n",
              "    .dataframe tbody tr th:only-of-type {\n",
              "        vertical-align: middle;\n",
              "    }\n",
              "\n",
              "    .dataframe tbody tr th {\n",
              "        vertical-align: top;\n",
              "    }\n",
              "\n",
              "    .dataframe thead th {\n",
              "        text-align: right;\n",
              "    }\n",
              "</style>\n",
              "<table border=\"1\" class=\"dataframe\">\n",
              "  <thead>\n",
              "    <tr style=\"text-align: right;\">\n",
              "      <th></th>\n",
              "      <th>movieId</th>\n",
              "      <th>title</th>\n",
              "      <th>genres</th>\n",
              "    </tr>\n",
              "  </thead>\n",
              "  <tbody>\n",
              "    <tr>\n",
              "      <th>0</th>\n",
              "      <td>1</td>\n",
              "      <td>Toy Story (1995)</td>\n",
              "      <td>Adventure|Animation|Children|Comedy|Fantasy</td>\n",
              "    </tr>\n",
              "    <tr>\n",
              "      <th>1</th>\n",
              "      <td>2</td>\n",
              "      <td>Jumanji (1995)</td>\n",
              "      <td>Adventure|Children|Fantasy</td>\n",
              "    </tr>\n",
              "    <tr>\n",
              "      <th>2</th>\n",
              "      <td>3</td>\n",
              "      <td>Grumpier Old Men (1995)</td>\n",
              "      <td>Comedy|Romance</td>\n",
              "    </tr>\n",
              "    <tr>\n",
              "      <th>3</th>\n",
              "      <td>4</td>\n",
              "      <td>Waiting to Exhale (1995)</td>\n",
              "      <td>Comedy|Drama|Romance</td>\n",
              "    </tr>\n",
              "    <tr>\n",
              "      <th>4</th>\n",
              "      <td>5</td>\n",
              "      <td>Father of the Bride Part II (1995)</td>\n",
              "      <td>Comedy</td>\n",
              "    </tr>\n",
              "  </tbody>\n",
              "</table>\n",
              "</div>"
            ],
            "text/plain": [
              "   movieId  ...                                       genres\n",
              "0        1  ...  Adventure|Animation|Children|Comedy|Fantasy\n",
              "1        2  ...                   Adventure|Children|Fantasy\n",
              "2        3  ...                               Comedy|Romance\n",
              "3        4  ...                         Comedy|Drama|Romance\n",
              "4        5  ...                                       Comedy\n",
              "\n",
              "[5 rows x 3 columns]"
            ]
          },
          "metadata": {
            "tags": []
          },
          "execution_count": 7
        }
      ]
    },
    {
      "cell_type": "markdown",
      "metadata": {
        "id": "PqjVLlbxdMlf"
      },
      "source": [
        "# Шаг №2. Графическое отображение данных\n",
        "\n",
        "Данные получены. Необходимо теперь рассмотреть их распределение"
      ]
    },
    {
      "cell_type": "code",
      "metadata": {
        "id": "_Wiy--_mdYea"
      },
      "source": [
        "movies_df_changed = movies_df"
      ],
      "execution_count": 8,
      "outputs": []
    },
    {
      "cell_type": "code",
      "metadata": {
        "id": "CMn7b9EXf8-T"
      },
      "source": [
        "movies_df_changed['genres'] = movies_df_changed['genres'].apply(lambda x: x.split('|'))"
      ],
      "execution_count": 9,
      "outputs": []
    },
    {
      "cell_type": "code",
      "metadata": {
        "colab": {
          "base_uri": "https://localhost:8080/",
          "height": 204
        },
        "id": "Yz0zNtGTgTVu",
        "outputId": "98473730-a912-4e3e-c933-54138246b11a"
      },
      "source": [
        "movies_df_changed.head()"
      ],
      "execution_count": 10,
      "outputs": [
        {
          "output_type": "execute_result",
          "data": {
            "text/html": [
              "<div>\n",
              "<style scoped>\n",
              "    .dataframe tbody tr th:only-of-type {\n",
              "        vertical-align: middle;\n",
              "    }\n",
              "\n",
              "    .dataframe tbody tr th {\n",
              "        vertical-align: top;\n",
              "    }\n",
              "\n",
              "    .dataframe thead th {\n",
              "        text-align: right;\n",
              "    }\n",
              "</style>\n",
              "<table border=\"1\" class=\"dataframe\">\n",
              "  <thead>\n",
              "    <tr style=\"text-align: right;\">\n",
              "      <th></th>\n",
              "      <th>movieId</th>\n",
              "      <th>title</th>\n",
              "      <th>genres</th>\n",
              "    </tr>\n",
              "  </thead>\n",
              "  <tbody>\n",
              "    <tr>\n",
              "      <th>0</th>\n",
              "      <td>1</td>\n",
              "      <td>Toy Story (1995)</td>\n",
              "      <td>[Adventure, Animation, Children, Comedy, Fantasy]</td>\n",
              "    </tr>\n",
              "    <tr>\n",
              "      <th>1</th>\n",
              "      <td>2</td>\n",
              "      <td>Jumanji (1995)</td>\n",
              "      <td>[Adventure, Children, Fantasy]</td>\n",
              "    </tr>\n",
              "    <tr>\n",
              "      <th>2</th>\n",
              "      <td>3</td>\n",
              "      <td>Grumpier Old Men (1995)</td>\n",
              "      <td>[Comedy, Romance]</td>\n",
              "    </tr>\n",
              "    <tr>\n",
              "      <th>3</th>\n",
              "      <td>4</td>\n",
              "      <td>Waiting to Exhale (1995)</td>\n",
              "      <td>[Comedy, Drama, Romance]</td>\n",
              "    </tr>\n",
              "    <tr>\n",
              "      <th>4</th>\n",
              "      <td>5</td>\n",
              "      <td>Father of the Bride Part II (1995)</td>\n",
              "      <td>[Comedy]</td>\n",
              "    </tr>\n",
              "  </tbody>\n",
              "</table>\n",
              "</div>"
            ],
            "text/plain": [
              "   movieId  ...                                             genres\n",
              "0        1  ...  [Adventure, Animation, Children, Comedy, Fantasy]\n",
              "1        2  ...                     [Adventure, Children, Fantasy]\n",
              "2        3  ...                                  [Comedy, Romance]\n",
              "3        4  ...                           [Comedy, Drama, Romance]\n",
              "4        5  ...                                           [Comedy]\n",
              "\n",
              "[5 rows x 3 columns]"
            ]
          },
          "metadata": {
            "tags": []
          },
          "execution_count": 10
        }
      ]
    },
    {
      "cell_type": "code",
      "metadata": {
        "id": "0UPRN-1igYMK"
      },
      "source": [
        "movies_df_agg = movies_df_changed.explode('genres')"
      ],
      "execution_count": 11,
      "outputs": []
    },
    {
      "cell_type": "code",
      "metadata": {
        "colab": {
          "base_uri": "https://localhost:8080/",
          "height": 204
        },
        "id": "hjuXA7cGgkr-",
        "outputId": "9f836908-e362-40f4-e524-ee5a3c9da6c5"
      },
      "source": [
        "movies_df_agg.head()"
      ],
      "execution_count": 12,
      "outputs": [
        {
          "output_type": "execute_result",
          "data": {
            "text/html": [
              "<div>\n",
              "<style scoped>\n",
              "    .dataframe tbody tr th:only-of-type {\n",
              "        vertical-align: middle;\n",
              "    }\n",
              "\n",
              "    .dataframe tbody tr th {\n",
              "        vertical-align: top;\n",
              "    }\n",
              "\n",
              "    .dataframe thead th {\n",
              "        text-align: right;\n",
              "    }\n",
              "</style>\n",
              "<table border=\"1\" class=\"dataframe\">\n",
              "  <thead>\n",
              "    <tr style=\"text-align: right;\">\n",
              "      <th></th>\n",
              "      <th>movieId</th>\n",
              "      <th>title</th>\n",
              "      <th>genres</th>\n",
              "    </tr>\n",
              "  </thead>\n",
              "  <tbody>\n",
              "    <tr>\n",
              "      <th>0</th>\n",
              "      <td>1</td>\n",
              "      <td>Toy Story (1995)</td>\n",
              "      <td>Adventure</td>\n",
              "    </tr>\n",
              "    <tr>\n",
              "      <th>0</th>\n",
              "      <td>1</td>\n",
              "      <td>Toy Story (1995)</td>\n",
              "      <td>Animation</td>\n",
              "    </tr>\n",
              "    <tr>\n",
              "      <th>0</th>\n",
              "      <td>1</td>\n",
              "      <td>Toy Story (1995)</td>\n",
              "      <td>Children</td>\n",
              "    </tr>\n",
              "    <tr>\n",
              "      <th>0</th>\n",
              "      <td>1</td>\n",
              "      <td>Toy Story (1995)</td>\n",
              "      <td>Comedy</td>\n",
              "    </tr>\n",
              "    <tr>\n",
              "      <th>0</th>\n",
              "      <td>1</td>\n",
              "      <td>Toy Story (1995)</td>\n",
              "      <td>Fantasy</td>\n",
              "    </tr>\n",
              "  </tbody>\n",
              "</table>\n",
              "</div>"
            ],
            "text/plain": [
              "   movieId             title     genres\n",
              "0        1  Toy Story (1995)  Adventure\n",
              "0        1  Toy Story (1995)  Animation\n",
              "0        1  Toy Story (1995)   Children\n",
              "0        1  Toy Story (1995)     Comedy\n",
              "0        1  Toy Story (1995)    Fantasy"
            ]
          },
          "metadata": {
            "tags": []
          },
          "execution_count": 12
        }
      ]
    },
    {
      "cell_type": "code",
      "metadata": {
        "colab": {
          "base_uri": "https://localhost:8080/"
        },
        "id": "mklbLCbngoCI",
        "outputId": "700f7528-5a7f-4fd7-aaeb-19a1935352f3"
      },
      "source": [
        "movies_df_agg.info()"
      ],
      "execution_count": 13,
      "outputs": [
        {
          "output_type": "stream",
          "text": [
            "<class 'pandas.core.frame.DataFrame'>\n",
            "Int64Index: 22084 entries, 0 to 9741\n",
            "Data columns (total 3 columns):\n",
            " #   Column   Non-Null Count  Dtype \n",
            "---  ------   --------------  ----- \n",
            " 0   movieId  22084 non-null  int64 \n",
            " 1   title    22084 non-null  object\n",
            " 2   genres   22084 non-null  object\n",
            "dtypes: int64(1), object(2)\n",
            "memory usage: 690.1+ KB\n"
          ],
          "name": "stdout"
        }
      ]
    },
    {
      "cell_type": "code",
      "metadata": {
        "colab": {
          "base_uri": "https://localhost:8080/",
          "height": 204
        },
        "id": "aSFlLB-QgtFc",
        "outputId": "8cc7cd82-d59a-4132-9d34-a6bb80ab6ad4"
      },
      "source": [
        "value_counts = movies_df_agg.value_counts(subset=['genres'], sort=False)\n",
        "\n",
        "genres_value_counts = pd.DataFrame(value_counts)\n",
        "movie_genre_df = genres_value_counts.reset_index()\n",
        "\n",
        "movie_genre_df.columns = ['genre', 'count_value']\n",
        "movie_genre_final_df = movie_genre_df.drop(movie_genre_df[movie_genre_df[\"genre\"] == '(no genres listed)'].index)\n",
        "\n",
        "movie_genre_final_df.head()"
      ],
      "execution_count": 14,
      "outputs": [
        {
          "output_type": "execute_result",
          "data": {
            "text/html": [
              "<div>\n",
              "<style scoped>\n",
              "    .dataframe tbody tr th:only-of-type {\n",
              "        vertical-align: middle;\n",
              "    }\n",
              "\n",
              "    .dataframe tbody tr th {\n",
              "        vertical-align: top;\n",
              "    }\n",
              "\n",
              "    .dataframe thead th {\n",
              "        text-align: right;\n",
              "    }\n",
              "</style>\n",
              "<table border=\"1\" class=\"dataframe\">\n",
              "  <thead>\n",
              "    <tr style=\"text-align: right;\">\n",
              "      <th></th>\n",
              "      <th>genre</th>\n",
              "      <th>count_value</th>\n",
              "    </tr>\n",
              "  </thead>\n",
              "  <tbody>\n",
              "    <tr>\n",
              "      <th>1</th>\n",
              "      <td>Action</td>\n",
              "      <td>1828</td>\n",
              "    </tr>\n",
              "    <tr>\n",
              "      <th>2</th>\n",
              "      <td>Adventure</td>\n",
              "      <td>1263</td>\n",
              "    </tr>\n",
              "    <tr>\n",
              "      <th>3</th>\n",
              "      <td>Animation</td>\n",
              "      <td>611</td>\n",
              "    </tr>\n",
              "    <tr>\n",
              "      <th>4</th>\n",
              "      <td>Children</td>\n",
              "      <td>664</td>\n",
              "    </tr>\n",
              "    <tr>\n",
              "      <th>5</th>\n",
              "      <td>Comedy</td>\n",
              "      <td>3756</td>\n",
              "    </tr>\n",
              "  </tbody>\n",
              "</table>\n",
              "</div>"
            ],
            "text/plain": [
              "       genre  count_value\n",
              "1     Action         1828\n",
              "2  Adventure         1263\n",
              "3  Animation          611\n",
              "4   Children          664\n",
              "5     Comedy         3756"
            ]
          },
          "metadata": {
            "tags": []
          },
          "execution_count": 14
        }
      ]
    },
    {
      "cell_type": "code",
      "metadata": {
        "colab": {
          "base_uri": "https://localhost:8080/",
          "height": 323
        },
        "id": "CfnzpevujrjJ",
        "outputId": "8728a5f2-95fc-439d-fca1-8e58cc186532"
      },
      "source": [
        "sns.set(rc={'figure.figsize':(30,5)})\n",
        "sns.barplot(x = 'genre', y = 'count_value', data = movie_genre_final_df)"
      ],
      "execution_count": 15,
      "outputs": [
        {
          "output_type": "execute_result",
          "data": {
            "text/plain": [
              "<matplotlib.axes._subplots.AxesSubplot at 0x7fc15fbe2810>"
            ]
          },
          "metadata": {
            "tags": []
          },
          "execution_count": 15
        },
        {
          "output_type": "display_data",
          "data": {
            "image/png": "[encoded data removed]",
            "text/plain": [
              "<Figure size 2160x360 with 1 Axes>"
            ]
          },
          "metadata": {
            "tags": []
          }
        }
      ]
    },
    {
      "cell_type": "code",
      "metadata": {
        "colab": {
          "base_uri": "https://localhost:8080/",
          "height": 204
        },
        "id": "XDQGMeAhltpr",
        "outputId": "b25f6647-f098-4d08-b8af-2a2f838b6cca"
      },
      "source": [
        "value_counts = ratings_df.value_counts(subset = ['userId'], sort=True)\n",
        "\n",
        "rating_value_counts = pd.DataFrame(value_counts)\n",
        "rating_user_df = rating_value_counts.reset_index()\n",
        "\n",
        "rating_user_df.columns = ['user', 'count_value']\n",
        "\n",
        "rating_user_df.head()\n"
      ],
      "execution_count": 16,
      "outputs": [
        {
          "output_type": "execute_result",
          "data": {
            "text/html": [
              "<div>\n",
              "<style scoped>\n",
              "    .dataframe tbody tr th:only-of-type {\n",
              "        vertical-align: middle;\n",
              "    }\n",
              "\n",
              "    .dataframe tbody tr th {\n",
              "        vertical-align: top;\n",
              "    }\n",
              "\n",
              "    .dataframe thead th {\n",
              "        text-align: right;\n",
              "    }\n",
              "</style>\n",
              "<table border=\"1\" class=\"dataframe\">\n",
              "  <thead>\n",
              "    <tr style=\"text-align: right;\">\n",
              "      <th></th>\n",
              "      <th>user</th>\n",
              "      <th>count_value</th>\n",
              "    </tr>\n",
              "  </thead>\n",
              "  <tbody>\n",
              "    <tr>\n",
              "      <th>0</th>\n",
              "      <td>414</td>\n",
              "      <td>2698</td>\n",
              "    </tr>\n",
              "    <tr>\n",
              "      <th>1</th>\n",
              "      <td>599</td>\n",
              "      <td>2478</td>\n",
              "    </tr>\n",
              "    <tr>\n",
              "      <th>2</th>\n",
              "      <td>474</td>\n",
              "      <td>2108</td>\n",
              "    </tr>\n",
              "    <tr>\n",
              "      <th>3</th>\n",
              "      <td>448</td>\n",
              "      <td>1864</td>\n",
              "    </tr>\n",
              "    <tr>\n",
              "      <th>4</th>\n",
              "      <td>274</td>\n",
              "      <td>1346</td>\n",
              "    </tr>\n",
              "  </tbody>\n",
              "</table>\n",
              "</div>"
            ],
            "text/plain": [
              "   user  count_value\n",
              "0   414         2698\n",
              "1   599         2478\n",
              "2   474         2108\n",
              "3   448         1864\n",
              "4   274         1346"
            ]
          },
          "metadata": {
            "tags": []
          },
          "execution_count": 16
        }
      ]
    },
    {
      "cell_type": "code",
      "metadata": {
        "colab": {
          "base_uri": "https://localhost:8080/",
          "height": 323
        },
        "id": "HIRPxJnIrwNp",
        "outputId": "13b12311-8438-4c6f-f5c4-f5530561d6f8"
      },
      "source": [
        "ratings_limited_df = rating_user_df.iloc[0:10]\n",
        "sns.barplot(x = 'user', y = 'count_value', data = ratings_limited_df)"
      ],
      "execution_count": 17,
      "outputs": [
        {
          "output_type": "execute_result",
          "data": {
            "text/plain": [
              "<matplotlib.axes._subplots.AxesSubplot at 0x7fc15f6e7d90>"
            ]
          },
          "metadata": {
            "tags": []
          },
          "execution_count": 17
        },
        {
          "output_type": "display_data",
          "data": {
            "image/png": "[encoded data removed]",
            "text/plain": [
              "<Figure size 2160x360 with 1 Axes>"
            ]
          },
          "metadata": {
            "tags": []
          }
        }
      ]
    },
    {
      "cell_type": "code",
      "metadata": {
        "id": "vH3GjyaWso7D"
      },
      "source": [
        "ratings_raw_limited_df = ratings_df.iloc[0:10]"
      ],
      "execution_count": 18,
      "outputs": []
    },
    {
      "cell_type": "code",
      "metadata": {
        "colab": {
          "base_uri": "https://localhost:8080/",
          "height": 400
        },
        "id": "-qDhwna4s8R_",
        "outputId": "9897c260-1f39-4679-cc1b-b49009fe97f9"
      },
      "source": [
        "sns.set(rc={'figure.figsize':(100,100)})\n",
        "sns.catplot(kind='bar', data = ratings_raw_limited_df, hue=\"userId\", x=\"movieId\", y=\"rating\")"
      ],
      "execution_count": 19,
      "outputs": [
        {
          "output_type": "execute_result",
          "data": {
            "text/plain": [
              "<seaborn.axisgrid.FacetGrid at 0x7fc15f1c0c50>"
            ]
          },
          "metadata": {
            "tags": []
          },
          "execution_count": 19
        },
        {
          "output_type": "display_data",
          "data": {
            "image/png": "[encoded data removed]",
            "text/plain": [
              "<Figure size 406.6x360 with 1 Axes>"
            ]
          },
          "metadata": {
            "tags": []
          }
        }
      ]
    },
    {
      "cell_type": "markdown",
      "metadata": {
        "id": "hEUe0MZG74IF"
      },
      "source": [
        "# Шаг №3. Модели для анализа\n",
        "\n",
        "С помощью графиков были рассмотрены имеющиеся признаки для данных. Далее, нужно их анализировать"
      ]
    },
    {
      "cell_type": "markdown",
      "metadata": {
        "id": "sdVXEi_O88ju"
      },
      "source": [
        "# Обработка отзывов пользователей\n",
        "\n",
        "Обработка информации по отзывам пользователей. Для этого будет использован TF - IDF."
      ]
    },
    {
      "cell_type": "code",
      "metadata": {
        "id": "x0sBMX679K05"
      },
      "source": [
        "import numpy as np\n",
        "import scipy.sparse as sp\n",
        "\n",
        "from sklearn.preprocessing import normalize\n",
        "from sklearn.feature_extraction.text import TfidfTransformer, CountVectorizer"
      ],
      "execution_count": 20,
      "outputs": []
    },
    {
      "cell_type": "code",
      "metadata": {
        "id": "fH5KsLop9VXE"
      },
      "source": [
        "class CTFIDFVectorizer(TfidfTransformer):\n",
        "    def __init__(self, *args, **kwargs):\n",
        "        super(CTFIDFVectorizer, self).__init__(*args, **kwargs)\n",
        "\n",
        "    def fit(self, X: sp.csr_matrix, n_samples: int):\n",
        "        _, n_features = X.shape\n",
        "        df = np.squeeze(np.asarray(X.sum(axis=0)))\n",
        "        idf = np.log(n_samples / df)\n",
        "        self._idf_diag = sp.diags(idf, offsets=0,\n",
        "                                  shape=(n_features, n_features),\n",
        "                                  format='csr',\n",
        "                                  dtype=np.float64)\n",
        "        return self\n",
        "\n",
        "    def transform(self, X: sp.csr_matrix) -> sp.csr_matrix:\n",
        "        X = X * self._idf_diag\n",
        "        X = normalize(X, axis=1, norm='l1', copy=False)\n",
        "        return X"
      ],
      "execution_count": 21,
      "outputs": []
    },
    {
      "cell_type": "code",
      "metadata": {
        "colab": {
          "base_uri": "https://localhost:8080/",
          "height": 420
        },
        "id": "ohc8976N9d09",
        "outputId": "ea84753c-2c06-47e9-ca9d-d68743ff2e46"
      },
      "source": [
        "tags_df.info()\n",
        "print(\"-------------------------------------------------------------------\")\n",
        "tags_df.head()"
      ],
      "execution_count": 22,
      "outputs": [
        {
          "output_type": "stream",
          "text": [
            "<class 'pandas.core.frame.DataFrame'>\n",
            "RangeIndex: 3683 entries, 0 to 3682\n",
            "Data columns (total 4 columns):\n",
            " #   Column     Non-Null Count  Dtype \n",
            "---  ------     --------------  ----- \n",
            " 0   userId     3683 non-null   int64 \n",
            " 1   movieId    3683 non-null   int64 \n",
            " 2   tag        3683 non-null   object\n",
            " 3   timestamp  3683 non-null   int64 \n",
            "dtypes: int64(3), object(1)\n",
            "memory usage: 115.2+ KB\n",
            "-------------------------------------------------------------------\n"
          ],
          "name": "stdout"
        },
        {
          "output_type": "execute_result",
          "data": {
            "text/html": [
              "<div>\n",
              "<style scoped>\n",
              "    .dataframe tbody tr th:only-of-type {\n",
              "        vertical-align: middle;\n",
              "    }\n",
              "\n",
              "    .dataframe tbody tr th {\n",
              "        vertical-align: top;\n",
              "    }\n",
              "\n",
              "    .dataframe thead th {\n",
              "        text-align: right;\n",
              "    }\n",
              "</style>\n",
              "<table border=\"1\" class=\"dataframe\">\n",
              "  <thead>\n",
              "    <tr style=\"text-align: right;\">\n",
              "      <th></th>\n",
              "      <th>userId</th>\n",
              "      <th>movieId</th>\n",
              "      <th>tag</th>\n",
              "      <th>timestamp</th>\n",
              "    </tr>\n",
              "  </thead>\n",
              "  <tbody>\n",
              "    <tr>\n",
              "      <th>0</th>\n",
              "      <td>2</td>\n",
              "      <td>60756</td>\n",
              "      <td>funny</td>\n",
              "      <td>1445714994</td>\n",
              "    </tr>\n",
              "    <tr>\n",
              "      <th>1</th>\n",
              "      <td>2</td>\n",
              "      <td>60756</td>\n",
              "      <td>Highly quotable</td>\n",
              "      <td>1445714996</td>\n",
              "    </tr>\n",
              "    <tr>\n",
              "      <th>2</th>\n",
              "      <td>2</td>\n",
              "      <td>60756</td>\n",
              "      <td>will ferrell</td>\n",
              "      <td>1445714992</td>\n",
              "    </tr>\n",
              "    <tr>\n",
              "      <th>3</th>\n",
              "      <td>2</td>\n",
              "      <td>89774</td>\n",
              "      <td>Boxing story</td>\n",
              "      <td>1445715207</td>\n",
              "    </tr>\n",
              "    <tr>\n",
              "      <th>4</th>\n",
              "      <td>2</td>\n",
              "      <td>89774</td>\n",
              "      <td>MMA</td>\n",
              "      <td>1445715200</td>\n",
              "    </tr>\n",
              "  </tbody>\n",
              "</table>\n",
              "</div>"
            ],
            "text/plain": [
              "   userId  movieId              tag   timestamp\n",
              "0       2    60756            funny  1445714994\n",
              "1       2    60756  Highly quotable  1445714996\n",
              "2       2    60756     will ferrell  1445714992\n",
              "3       2    89774     Boxing story  1445715207\n",
              "4       2    89774              MMA  1445715200"
            ]
          },
          "metadata": {
            "tags": []
          },
          "execution_count": 22
        }
      ]
    },
    {
      "cell_type": "code",
      "metadata": {
        "id": "CY3ypUFO9mNI"
      },
      "source": [
        "docs_per_class = tags_df.groupby(['movieId'], as_index=False).agg({'tag': ' '.join})"
      ],
      "execution_count": 23,
      "outputs": []
    },
    {
      "cell_type": "code",
      "metadata": {
        "colab": {
          "base_uri": "https://localhost:8080/"
        },
        "id": "_4nG2Dmv-wMM",
        "outputId": "51cc1232-7dd4-4618-fbb2-d962584e0cff"
      },
      "source": [
        "type(docs_per_class)"
      ],
      "execution_count": 24,
      "outputs": [
        {
          "output_type": "execute_result",
          "data": {
            "text/plain": [
              "pandas.core.frame.DataFrame"
            ]
          },
          "metadata": {
            "tags": []
          },
          "execution_count": 24
        }
      ]
    },
    {
      "cell_type": "code",
      "metadata": {
        "colab": {
          "base_uri": "https://localhost:8080/",
          "height": 204
        },
        "id": "kKHL2aE5-zBo",
        "outputId": "9aad93da-d783-44d5-bb4b-d92e858127a7"
      },
      "source": [
        "docs_per_class.head()"
      ],
      "execution_count": 25,
      "outputs": [
        {
          "output_type": "execute_result",
          "data": {
            "text/html": [
              "<div>\n",
              "<style scoped>\n",
              "    .dataframe tbody tr th:only-of-type {\n",
              "        vertical-align: middle;\n",
              "    }\n",
              "\n",
              "    .dataframe tbody tr th {\n",
              "        vertical-align: top;\n",
              "    }\n",
              "\n",
              "    .dataframe thead th {\n",
              "        text-align: right;\n",
              "    }\n",
              "</style>\n",
              "<table border=\"1\" class=\"dataframe\">\n",
              "  <thead>\n",
              "    <tr style=\"text-align: right;\">\n",
              "      <th></th>\n",
              "      <th>movieId</th>\n",
              "      <th>tag</th>\n",
              "    </tr>\n",
              "  </thead>\n",
              "  <tbody>\n",
              "    <tr>\n",
              "      <th>0</th>\n",
              "      <td>1</td>\n",
              "      <td>pixar pixar fun</td>\n",
              "    </tr>\n",
              "    <tr>\n",
              "      <th>1</th>\n",
              "      <td>2</td>\n",
              "      <td>fantasy magic board game Robin Williams game</td>\n",
              "    </tr>\n",
              "    <tr>\n",
              "      <th>2</th>\n",
              "      <td>3</td>\n",
              "      <td>moldy old</td>\n",
              "    </tr>\n",
              "    <tr>\n",
              "      <th>3</th>\n",
              "      <td>5</td>\n",
              "      <td>pregnancy remake</td>\n",
              "    </tr>\n",
              "    <tr>\n",
              "      <th>4</th>\n",
              "      <td>7</td>\n",
              "      <td>remake</td>\n",
              "    </tr>\n",
              "  </tbody>\n",
              "</table>\n",
              "</div>"
            ],
            "text/plain": [
              "   movieId                                           tag\n",
              "0        1                               pixar pixar fun\n",
              "1        2  fantasy magic board game Robin Williams game\n",
              "2        3                                     moldy old\n",
              "3        5                              pregnancy remake\n",
              "4        7                                        remake"
            ]
          },
          "metadata": {
            "tags": []
          },
          "execution_count": 25
        }
      ]
    },
    {
      "cell_type": "code",
      "metadata": {
        "colab": {
          "base_uri": "https://localhost:8080/"
        },
        "id": "h7e0-zXe-3Nm",
        "outputId": "decda6b0-7c28-48c8-fbe7-af117b49cb19"
      },
      "source": [
        "docs_per_class.info()"
      ],
      "execution_count": 26,
      "outputs": [
        {
          "output_type": "stream",
          "text": [
            "<class 'pandas.core.frame.DataFrame'>\n",
            "Int64Index: 1572 entries, 0 to 1571\n",
            "Data columns (total 2 columns):\n",
            " #   Column   Non-Null Count  Dtype \n",
            "---  ------   --------------  ----- \n",
            " 0   movieId  1572 non-null   int64 \n",
            " 1   tag      1572 non-null   object\n",
            "dtypes: int64(1), object(1)\n",
            "memory usage: 36.8+ KB\n"
          ],
          "name": "stdout"
        }
      ]
    },
    {
      "cell_type": "code",
      "metadata": {
        "id": "QCJq6JeT-624"
      },
      "source": [
        "count = CountVectorizer().fit_transform(docs_per_class['tag'])"
      ],
      "execution_count": 27,
      "outputs": []
    },
    {
      "cell_type": "code",
      "metadata": {
        "colab": {
          "base_uri": "https://localhost:8080/"
        },
        "id": "hcVX1CXMCMU-",
        "outputId": "bab63ffd-be68-4e27-946d-b4ddefa71cf8"
      },
      "source": [
        "count"
      ],
      "execution_count": 28,
      "outputs": [
        {
          "output_type": "execute_result",
          "data": {
            "text/plain": [
              "<1572x1744 sparse matrix of type '<class 'numpy.int64'>'\n",
              "\twith 5260 stored elements in Compressed Sparse Row format>"
            ]
          },
          "metadata": {
            "tags": []
          },
          "execution_count": 28
        }
      ]
    },
    {
      "cell_type": "code",
      "metadata": {
        "id": "cRYKZnUqCOz0"
      },
      "source": [
        "class_tf_idf = CTFIDFVectorizer().fit_transform(count, n_samples=len(tags_df[['movieId', 'tag']]))"
      ],
      "execution_count": 29,
      "outputs": []
    },
    {
      "cell_type": "code",
      "metadata": {
        "colab": {
          "base_uri": "https://localhost:8080/"
        },
        "id": "EmG5rPnmCtVc",
        "outputId": "09c884e1-0007-46f7-9b47-69fceeb48370"
      },
      "source": [
        "class_tf_idf"
      ],
      "execution_count": 30,
      "outputs": [
        {
          "output_type": "execute_result",
          "data": {
            "text/plain": [
              "<1572x1744 sparse matrix of type '<class 'numpy.float64'>'\n",
              "\twith 5260 stored elements in Compressed Sparse Row format>"
            ]
          },
          "metadata": {
            "tags": []
          },
          "execution_count": 30
        }
      ]
    },
    {
      "cell_type": "code",
      "metadata": {
        "id": "eGAEEpyYC6H2"
      },
      "source": [
        "class_tf_idf_array = class_tf_idf.toarray()"
      ],
      "execution_count": 31,
      "outputs": []
    },
    {
      "cell_type": "code",
      "metadata": {
        "id": "x06HlsgrDdOj"
      },
      "source": [
        "vectorizer = CountVectorizer().fit(docs_per_class['tag'])"
      ],
      "execution_count": 32,
      "outputs": []
    },
    {
      "cell_type": "code",
      "metadata": {
        "id": "H3iyhw6yDwoe"
      },
      "source": [
        "count_transform = vectorizer.transform(docs_per_class['tag'])"
      ],
      "execution_count": 33,
      "outputs": []
    },
    {
      "cell_type": "code",
      "metadata": {
        "id": "ZcvtXWv9D7LH"
      },
      "source": [
        "words = vectorizer.get_feature_names()"
      ],
      "execution_count": 34,
      "outputs": []
    },
    {
      "cell_type": "code",
      "metadata": {
        "id": "3TIqp_aIEGkX"
      },
      "source": [
        "ctfidf = CTFIDFVectorizer().fit_transform(count_transform, n_samples=len(tags_df[['movieId', 'tag']])).toarray()"
      ],
      "execution_count": 35,
      "outputs": []
    },
    {
      "cell_type": "code",
      "metadata": {
        "colab": {
          "base_uri": "https://localhost:8080/"
        },
        "id": "IHin3LHEE1vo",
        "outputId": "17785f6e-09e7-47aa-8f52-49d1fd00ac9c"
      },
      "source": [
        "len(words)"
      ],
      "execution_count": 36,
      "outputs": [
        {
          "output_type": "execute_result",
          "data": {
            "text/plain": [
              "1744"
            ]
          },
          "metadata": {
            "tags": []
          },
          "execution_count": 36
        }
      ]
    },
    {
      "cell_type": "code",
      "metadata": {
        "id": "0IlyEV5qDDE5"
      },
      "source": [
        "words_per_movie_id = {\n",
        "    label: [\n",
        "            words[index] for index in ctfidf[label].argsort()[-10:]\n",
        "    ] for label in docs_per_class.movieId if label <= 1572\n",
        "}"
      ],
      "execution_count": 37,
      "outputs": []
    },
    {
      "cell_type": "code",
      "metadata": {
        "colab": {
          "base_uri": "https://localhost:8080/"
        },
        "id": "XNUZ9uEVFD6L",
        "outputId": "4bb3c8fb-6c2d-4620-c8fe-b799112b9c20"
      },
      "source": [
        "type(words_per_movie_id)"
      ],
      "execution_count": 38,
      "outputs": [
        {
          "output_type": "execute_result",
          "data": {
            "text/plain": [
              "dict"
            ]
          },
          "metadata": {
            "tags": []
          },
          "execution_count": 38
        }
      ]
    },
    {
      "cell_type": "code",
      "metadata": {
        "id": "-z5HHeHgFGsJ"
      },
      "source": [
        "words_per_movie_df = pd.DataFrame.from_dict(words_per_movie_id, orient='index').transpose()"
      ],
      "execution_count": 39,
      "outputs": []
    },
    {
      "cell_type": "code",
      "metadata": {
        "colab": {
          "base_uri": "https://localhost:8080/",
          "height": 253
        },
        "id": "E5TEgQSBFkFS",
        "outputId": "fc8853a1-c09b-4342-d2b3-cd919a7d8ff5"
      },
      "source": [
        "words_per_movie_df.head()"
      ],
      "execution_count": 40,
      "outputs": [
        {
          "output_type": "execute_result",
          "data": {
            "text/html": [
              "<div>\n",
              "<style scoped>\n",
              "    .dataframe tbody tr th:only-of-type {\n",
              "        vertical-align: middle;\n",
              "    }\n",
              "\n",
              "    .dataframe tbody tr th {\n",
              "        vertical-align: top;\n",
              "    }\n",
              "\n",
              "    .dataframe thead th {\n",
              "        text-align: right;\n",
              "    }\n",
              "</style>\n",
              "<table border=\"1\" class=\"dataframe\">\n",
              "  <thead>\n",
              "    <tr style=\"text-align: right;\">\n",
              "      <th></th>\n",
              "      <th>1</th>\n",
              "      <th>2</th>\n",
              "      <th>3</th>\n",
              "      <th>5</th>\n",
              "      <th>7</th>\n",
              "      <th>11</th>\n",
              "      <th>14</th>\n",
              "      <th>16</th>\n",
              "      <th>17</th>\n",
              "      <th>21</th>\n",
              "      <th>22</th>\n",
              "      <th>25</th>\n",
              "      <th>26</th>\n",
              "      <th>28</th>\n",
              "      <th>29</th>\n",
              "      <th>31</th>\n",
              "      <th>32</th>\n",
              "      <th>34</th>\n",
              "      <th>36</th>\n",
              "      <th>38</th>\n",
              "      <th>39</th>\n",
              "      <th>40</th>\n",
              "      <th>41</th>\n",
              "      <th>43</th>\n",
              "      <th>45</th>\n",
              "      <th>46</th>\n",
              "      <th>47</th>\n",
              "      <th>50</th>\n",
              "      <th>52</th>\n",
              "      <th>58</th>\n",
              "      <th>62</th>\n",
              "      <th>92</th>\n",
              "      <th>96</th>\n",
              "      <th>101</th>\n",
              "      <th>104</th>\n",
              "      <th>107</th>\n",
              "      <th>110</th>\n",
              "      <th>111</th>\n",
              "      <th>116</th>\n",
              "      <th>122</th>\n",
              "      <th>...</th>\n",
              "      <th>1354</th>\n",
              "      <th>1356</th>\n",
              "      <th>1357</th>\n",
              "      <th>1358</th>\n",
              "      <th>1361</th>\n",
              "      <th>1363</th>\n",
              "      <th>1366</th>\n",
              "      <th>1367</th>\n",
              "      <th>1372</th>\n",
              "      <th>1374</th>\n",
              "      <th>1376</th>\n",
              "      <th>1377</th>\n",
              "      <th>1380</th>\n",
              "      <th>1381</th>\n",
              "      <th>1387</th>\n",
              "      <th>1389</th>\n",
              "      <th>1393</th>\n",
              "      <th>1394</th>\n",
              "      <th>1396</th>\n",
              "      <th>1398</th>\n",
              "      <th>1407</th>\n",
              "      <th>1408</th>\n",
              "      <th>1411</th>\n",
              "      <th>1413</th>\n",
              "      <th>1416</th>\n",
              "      <th>1423</th>\n",
              "      <th>1441</th>\n",
              "      <th>1446</th>\n",
              "      <th>1449</th>\n",
              "      <th>1466</th>\n",
              "      <th>1474</th>\n",
              "      <th>1485</th>\n",
              "      <th>1496</th>\n",
              "      <th>1500</th>\n",
              "      <th>1513</th>\n",
              "      <th>1537</th>\n",
              "      <th>1542</th>\n",
              "      <th>1544</th>\n",
              "      <th>1545</th>\n",
              "      <th>1569</th>\n",
              "    </tr>\n",
              "  </thead>\n",
              "  <tbody>\n",
              "    <tr>\n",
              "      <th>0</th>\n",
              "      <td>financial</td>\n",
              "      <td>first</td>\n",
              "      <td>fingered</td>\n",
              "      <td>fingered</td>\n",
              "      <td>firefly</td>\n",
              "      <td>fish</td>\n",
              "      <td>firefly</td>\n",
              "      <td>mindfuck</td>\n",
              "      <td>good</td>\n",
              "      <td>fincher</td>\n",
              "      <td>firefly</td>\n",
              "      <td>first</td>\n",
              "      <td>financial</td>\n",
              "      <td>firefly</td>\n",
              "      <td>firefly</td>\n",
              "      <td>fingered</td>\n",
              "      <td>first</td>\n",
              "      <td>financial</td>\n",
              "      <td>inspirational</td>\n",
              "      <td>firefly</td>\n",
              "      <td>fish</td>\n",
              "      <td>firefly</td>\n",
              "      <td>fingered</td>\n",
              "      <td>firefly</td>\n",
              "      <td>first</td>\n",
              "      <td>fingered</td>\n",
              "      <td>first</td>\n",
              "      <td>firefly</td>\n",
              "      <td>first</td>\n",
              "      <td>firefly</td>\n",
              "      <td>first</td>\n",
              "      <td>firefly</td>\n",
              "      <td>first</td>\n",
              "      <td>firefly</td>\n",
              "      <td>first</td>\n",
              "      <td>firefly</td>\n",
              "      <td>firefly</td>\n",
              "      <td>fingered</td>\n",
              "      <td>first</td>\n",
              "      <td>firefly</td>\n",
              "      <td>...</td>\n",
              "      <td>fingered</td>\n",
              "      <td>firefly</td>\n",
              "      <td>first</td>\n",
              "      <td>fingered</td>\n",
              "      <td>mystery</td>\n",
              "      <td>paul</td>\n",
              "      <td>financial</td>\n",
              "      <td>surreal</td>\n",
              "      <td>fingered</td>\n",
              "      <td>films</td>\n",
              "      <td>firefly</td>\n",
              "      <td>kids</td>\n",
              "      <td>fish</td>\n",
              "      <td>fingered</td>\n",
              "      <td>first</td>\n",
              "      <td>first</td>\n",
              "      <td>visually</td>\n",
              "      <td>fincher</td>\n",
              "      <td>financial</td>\n",
              "      <td>financial</td>\n",
              "      <td>filmed</td>\n",
              "      <td>first</td>\n",
              "      <td>financial</td>\n",
              "      <td>fish</td>\n",
              "      <td>flood</td>\n",
              "      <td>future</td>\n",
              "      <td>films</td>\n",
              "      <td>firefly</td>\n",
              "      <td>firefly</td>\n",
              "      <td>fingered</td>\n",
              "      <td>fincher</td>\n",
              "      <td>fincher</td>\n",
              "      <td>new</td>\n",
              "      <td>financial</td>\n",
              "      <td>fingered</td>\n",
              "      <td>firefly</td>\n",
              "      <td>fingered</td>\n",
              "      <td>firefly</td>\n",
              "      <td>fingered</td>\n",
              "      <td>films</td>\n",
              "    </tr>\n",
              "    <tr>\n",
              "      <th>1</th>\n",
              "      <td>films</td>\n",
              "      <td>firefly</td>\n",
              "      <td>fincher</td>\n",
              "      <td>fincher</td>\n",
              "      <td>fingered</td>\n",
              "      <td>first</td>\n",
              "      <td>fingered</td>\n",
              "      <td>remake</td>\n",
              "      <td>story</td>\n",
              "      <td>financial</td>\n",
              "      <td>fingered</td>\n",
              "      <td>firefly</td>\n",
              "      <td>films</td>\n",
              "      <td>fingered</td>\n",
              "      <td>fingered</td>\n",
              "      <td>fincher</td>\n",
              "      <td>firefly</td>\n",
              "      <td>films</td>\n",
              "      <td>epic</td>\n",
              "      <td>fingered</td>\n",
              "      <td>first</td>\n",
              "      <td>fingered</td>\n",
              "      <td>first</td>\n",
              "      <td>fingered</td>\n",
              "      <td>firefly</td>\n",
              "      <td>fincher</td>\n",
              "      <td>fingered</td>\n",
              "      <td>fingered</td>\n",
              "      <td>firefly</td>\n",
              "      <td>fingered</td>\n",
              "      <td>firefly</td>\n",
              "      <td>fingered</td>\n",
              "      <td>firefly</td>\n",
              "      <td>fingered</td>\n",
              "      <td>firefly</td>\n",
              "      <td>fingered</td>\n",
              "      <td>fingered</td>\n",
              "      <td>fincher</td>\n",
              "      <td>firefly</td>\n",
              "      <td>fingered</td>\n",
              "      <td>...</td>\n",
              "      <td>fincher</td>\n",
              "      <td>fingered</td>\n",
              "      <td>firefly</td>\n",
              "      <td>fincher</td>\n",
              "      <td>tom</td>\n",
              "      <td>fairy</td>\n",
              "      <td>films</td>\n",
              "      <td>fantasy</td>\n",
              "      <td>fincher</td>\n",
              "      <td>flick</td>\n",
              "      <td>fingered</td>\n",
              "      <td>one</td>\n",
              "      <td>first</td>\n",
              "      <td>on</td>\n",
              "      <td>firefly</td>\n",
              "      <td>firefly</td>\n",
              "      <td>appealing</td>\n",
              "      <td>financial</td>\n",
              "      <td>films</td>\n",
              "      <td>films</td>\n",
              "      <td>francis</td>\n",
              "      <td>firefly</td>\n",
              "      <td>films</td>\n",
              "      <td>first</td>\n",
              "      <td>gold</td>\n",
              "      <td>development</td>\n",
              "      <td>filmed</td>\n",
              "      <td>fingered</td>\n",
              "      <td>fingered</td>\n",
              "      <td>fincher</td>\n",
              "      <td>financial</td>\n",
              "      <td>financial</td>\n",
              "      <td>predictable</td>\n",
              "      <td>films</td>\n",
              "      <td>fincher</td>\n",
              "      <td>cinematography</td>\n",
              "      <td>fincher</td>\n",
              "      <td>fingered</td>\n",
              "      <td>fincher</td>\n",
              "      <td>filmed</td>\n",
              "    </tr>\n",
              "    <tr>\n",
              "      <th>2</th>\n",
              "      <td>family</td>\n",
              "      <td>fingered</td>\n",
              "      <td>financial</td>\n",
              "      <td>financial</td>\n",
              "      <td>fincher</td>\n",
              "      <td>firefly</td>\n",
              "      <td>fincher</td>\n",
              "      <td>brad</td>\n",
              "      <td>animal</td>\n",
              "      <td>films</td>\n",
              "      <td>fincher</td>\n",
              "      <td>fingered</td>\n",
              "      <td>filmed</td>\n",
              "      <td>fincher</td>\n",
              "      <td>fincher</td>\n",
              "      <td>financial</td>\n",
              "      <td>fingered</td>\n",
              "      <td>filmed</td>\n",
              "      <td>gibson</td>\n",
              "      <td>fincher</td>\n",
              "      <td>firefly</td>\n",
              "      <td>fincher</td>\n",
              "      <td>firefly</td>\n",
              "      <td>fincher</td>\n",
              "      <td>fingered</td>\n",
              "      <td>financial</td>\n",
              "      <td>zooey</td>\n",
              "      <td>fincher</td>\n",
              "      <td>fingered</td>\n",
              "      <td>fincher</td>\n",
              "      <td>fingered</td>\n",
              "      <td>fincher</td>\n",
              "      <td>fingered</td>\n",
              "      <td>fincher</td>\n",
              "      <td>fingered</td>\n",
              "      <td>fincher</td>\n",
              "      <td>fincher</td>\n",
              "      <td>financial</td>\n",
              "      <td>fingered</td>\n",
              "      <td>fincher</td>\n",
              "      <td>...</td>\n",
              "      <td>financial</td>\n",
              "      <td>fincher</td>\n",
              "      <td>fingered</td>\n",
              "      <td>financial</td>\n",
              "      <td>hanks</td>\n",
              "      <td>night</td>\n",
              "      <td>filmed</td>\n",
              "      <td>will</td>\n",
              "      <td>financial</td>\n",
              "      <td>financial</td>\n",
              "      <td>fincher</td>\n",
              "      <td>everyone</td>\n",
              "      <td>firefly</td>\n",
              "      <td>based</td>\n",
              "      <td>fingered</td>\n",
              "      <td>fingered</td>\n",
              "      <td>cerebral</td>\n",
              "      <td>films</td>\n",
              "      <td>filmed</td>\n",
              "      <td>filmed</td>\n",
              "      <td>franchise</td>\n",
              "      <td>fingered</td>\n",
              "      <td>filmed</td>\n",
              "      <td>firefly</td>\n",
              "      <td>surreal</td>\n",
              "      <td>simon</td>\n",
              "      <td>film</td>\n",
              "      <td>fincher</td>\n",
              "      <td>fincher</td>\n",
              "      <td>financial</td>\n",
              "      <td>films</td>\n",
              "      <td>films</td>\n",
              "      <td>writing</td>\n",
              "      <td>flood</td>\n",
              "      <td>financial</td>\n",
              "      <td>leonardo</td>\n",
              "      <td>financial</td>\n",
              "      <td>fincher</td>\n",
              "      <td>financial</td>\n",
              "      <td>film</td>\n",
              "    </tr>\n",
              "    <tr>\n",
              "      <th>3</th>\n",
              "      <td>far</td>\n",
              "      <td>fincher</td>\n",
              "      <td>films</td>\n",
              "      <td>films</td>\n",
              "      <td>financial</td>\n",
              "      <td>fingered</td>\n",
              "      <td>financial</td>\n",
              "      <td>pitt</td>\n",
              "      <td>not</td>\n",
              "      <td>filmed</td>\n",
              "      <td>financial</td>\n",
              "      <td>fincher</td>\n",
              "      <td>film</td>\n",
              "      <td>financial</td>\n",
              "      <td>financial</td>\n",
              "      <td>films</td>\n",
              "      <td>fincher</td>\n",
              "      <td>film</td>\n",
              "      <td>mel</td>\n",
              "      <td>financial</td>\n",
              "      <td>fingered</td>\n",
              "      <td>financial</td>\n",
              "      <td>zooey</td>\n",
              "      <td>financial</td>\n",
              "      <td>fincher</td>\n",
              "      <td>films</td>\n",
              "      <td>new</td>\n",
              "      <td>financial</td>\n",
              "      <td>fincher</td>\n",
              "      <td>financial</td>\n",
              "      <td>fincher</td>\n",
              "      <td>financial</td>\n",
              "      <td>fincher</td>\n",
              "      <td>financial</td>\n",
              "      <td>fincher</td>\n",
              "      <td>financial</td>\n",
              "      <td>financial</td>\n",
              "      <td>films</td>\n",
              "      <td>fincher</td>\n",
              "      <td>financial</td>\n",
              "      <td>...</td>\n",
              "      <td>films</td>\n",
              "      <td>financial</td>\n",
              "      <td>fincher</td>\n",
              "      <td>films</td>\n",
              "      <td>conspiracy</td>\n",
              "      <td>giamatti</td>\n",
              "      <td>film</td>\n",
              "      <td>romance</td>\n",
              "      <td>films</td>\n",
              "      <td>leonardo</td>\n",
              "      <td>financial</td>\n",
              "      <td>something</td>\n",
              "      <td>fingered</td>\n",
              "      <td>creepy</td>\n",
              "      <td>fincher</td>\n",
              "      <td>fincher</td>\n",
              "      <td>gritty</td>\n",
              "      <td>filmed</td>\n",
              "      <td>film</td>\n",
              "      <td>flood</td>\n",
              "      <td>france</td>\n",
              "      <td>fincher</td>\n",
              "      <td>flood</td>\n",
              "      <td>fingered</td>\n",
              "      <td>creepy</td>\n",
              "      <td>pegg</td>\n",
              "      <td>fish</td>\n",
              "      <td>financial</td>\n",
              "      <td>financial</td>\n",
              "      <td>films</td>\n",
              "      <td>flood</td>\n",
              "      <td>filmed</td>\n",
              "      <td>dystopia</td>\n",
              "      <td>witty</td>\n",
              "      <td>films</td>\n",
              "      <td>tom</td>\n",
              "      <td>films</td>\n",
              "      <td>financial</td>\n",
              "      <td>films</td>\n",
              "      <td>fillion</td>\n",
              "    </tr>\n",
              "    <tr>\n",
              "      <th>4</th>\n",
              "      <td>fantasy</td>\n",
              "      <td>financial</td>\n",
              "      <td>filmed</td>\n",
              "      <td>filmed</td>\n",
              "      <td>films</td>\n",
              "      <td>fincher</td>\n",
              "      <td>films</td>\n",
              "      <td>willis</td>\n",
              "      <td>for</td>\n",
              "      <td>film</td>\n",
              "      <td>films</td>\n",
              "      <td>financial</td>\n",
              "      <td>flick</td>\n",
              "      <td>films</td>\n",
              "      <td>films</td>\n",
              "      <td>filmed</td>\n",
              "      <td>financial</td>\n",
              "      <td>flood</td>\n",
              "      <td>scenery</td>\n",
              "      <td>films</td>\n",
              "      <td>fincher</td>\n",
              "      <td>films</td>\n",
              "      <td>leonardo</td>\n",
              "      <td>films</td>\n",
              "      <td>financial</td>\n",
              "      <td>filmed</td>\n",
              "      <td>york</td>\n",
              "      <td>films</td>\n",
              "      <td>financial</td>\n",
              "      <td>films</td>\n",
              "      <td>financial</td>\n",
              "      <td>films</td>\n",
              "      <td>financial</td>\n",
              "      <td>films</td>\n",
              "      <td>financial</td>\n",
              "      <td>films</td>\n",
              "      <td>films</td>\n",
              "      <td>filmed</td>\n",
              "      <td>financial</td>\n",
              "      <td>films</td>\n",
              "      <td>...</td>\n",
              "      <td>filmed</td>\n",
              "      <td>films</td>\n",
              "      <td>financial</td>\n",
              "      <td>filmed</td>\n",
              "      <td>hunt</td>\n",
              "      <td>shyamalan</td>\n",
              "      <td>flood</td>\n",
              "      <td>ferrell</td>\n",
              "      <td>filmed</td>\n",
              "      <td>dicaprio</td>\n",
              "      <td>films</td>\n",
              "      <td>plan</td>\n",
              "      <td>fincher</td>\n",
              "      <td>paranoia</td>\n",
              "      <td>financial</td>\n",
              "      <td>financial</td>\n",
              "      <td>long</td>\n",
              "      <td>flood</td>\n",
              "      <td>flick</td>\n",
              "      <td>zooey</td>\n",
              "      <td>comedy</td>\n",
              "      <td>financial</td>\n",
              "      <td>surreal</td>\n",
              "      <td>fincher</td>\n",
              "      <td>fairy</td>\n",
              "      <td>cuts</td>\n",
              "      <td>stylized</td>\n",
              "      <td>films</td>\n",
              "      <td>films</td>\n",
              "      <td>filmed</td>\n",
              "      <td>military</td>\n",
              "      <td>food</td>\n",
              "      <td>anti</td>\n",
              "      <td>seth</td>\n",
              "      <td>filmed</td>\n",
              "      <td>survival</td>\n",
              "      <td>filmed</td>\n",
              "      <td>films</td>\n",
              "      <td>filmed</td>\n",
              "      <td>flick</td>\n",
              "    </tr>\n",
              "  </tbody>\n",
              "</table>\n",
              "<p>5 rows × 409 columns</p>\n",
              "</div>"
            ],
            "text/plain": [
              "        1          2          3     ...       1544       1545     1569\n",
              "0  financial      first   fingered  ...    firefly   fingered    films\n",
              "1      films    firefly    fincher  ...   fingered    fincher   filmed\n",
              "2     family   fingered  financial  ...    fincher  financial     film\n",
              "3        far    fincher      films  ...  financial      films  fillion\n",
              "4    fantasy  financial     filmed  ...      films     filmed    flick\n",
              "\n",
              "[5 rows x 409 columns]"
            ]
          },
          "metadata": {
            "tags": []
          },
          "execution_count": 40
        }
      ]
    },
    {
      "cell_type": "code",
      "metadata": {
        "colab": {
          "base_uri": "https://localhost:8080/"
        },
        "id": "pO4r9BTlGbCd",
        "outputId": "cbc95f58-c145-4433-f160-3240ba1d08d7"
      },
      "source": [
        "len(words_per_movie_df.columns)"
      ],
      "execution_count": 41,
      "outputs": [
        {
          "output_type": "execute_result",
          "data": {
            "text/plain": [
              "409"
            ]
          },
          "metadata": {
            "tags": []
          },
          "execution_count": 41
        }
      ]
    },
    {
      "cell_type": "code",
      "metadata": {
        "id": "08S2ptkxF6Mn"
      },
      "source": [
        "new_columns = {elem: f\"movie_id_{elem}\" for elem in list(words_per_movie_df.columns)}"
      ],
      "execution_count": 42,
      "outputs": []
    },
    {
      "cell_type": "code",
      "metadata": {
        "id": "VpjWwabFG6QQ"
      },
      "source": [
        "words_per_movie_df.rename(columns=new_columns, inplace=True)"
      ],
      "execution_count": 43,
      "outputs": []
    },
    {
      "cell_type": "code",
      "metadata": {
        "colab": {
          "base_uri": "https://localhost:8080/",
          "height": 253
        },
        "id": "Ad44j5ruHHYV",
        "outputId": "86478640-8d17-491c-f57a-b59f1b03a9a5"
      },
      "source": [
        "words_per_movie_df.head()"
      ],
      "execution_count": 44,
      "outputs": [
        {
          "output_type": "execute_result",
          "data": {
            "text/html": [
              "<div>\n",
              "<style scoped>\n",
              "    .dataframe tbody tr th:only-of-type {\n",
              "        vertical-align: middle;\n",
              "    }\n",
              "\n",
              "    .dataframe tbody tr th {\n",
              "        vertical-align: top;\n",
              "    }\n",
              "\n",
              "    .dataframe thead th {\n",
              "        text-align: right;\n",
              "    }\n",
              "</style>\n",
              "<table border=\"1\" class=\"dataframe\">\n",
              "  <thead>\n",
              "    <tr style=\"text-align: right;\">\n",
              "      <th></th>\n",
              "      <th>movie_id_1</th>\n",
              "      <th>movie_id_2</th>\n",
              "      <th>movie_id_3</th>\n",
              "      <th>movie_id_5</th>\n",
              "      <th>movie_id_7</th>\n",
              "      <th>movie_id_11</th>\n",
              "      <th>movie_id_14</th>\n",
              "      <th>movie_id_16</th>\n",
              "      <th>movie_id_17</th>\n",
              "      <th>movie_id_21</th>\n",
              "      <th>movie_id_22</th>\n",
              "      <th>movie_id_25</th>\n",
              "      <th>movie_id_26</th>\n",
              "      <th>movie_id_28</th>\n",
              "      <th>movie_id_29</th>\n",
              "      <th>movie_id_31</th>\n",
              "      <th>movie_id_32</th>\n",
              "      <th>movie_id_34</th>\n",
              "      <th>movie_id_36</th>\n",
              "      <th>movie_id_38</th>\n",
              "      <th>movie_id_39</th>\n",
              "      <th>movie_id_40</th>\n",
              "      <th>movie_id_41</th>\n",
              "      <th>movie_id_43</th>\n",
              "      <th>movie_id_45</th>\n",
              "      <th>movie_id_46</th>\n",
              "      <th>movie_id_47</th>\n",
              "      <th>movie_id_50</th>\n",
              "      <th>movie_id_52</th>\n",
              "      <th>movie_id_58</th>\n",
              "      <th>movie_id_62</th>\n",
              "      <th>movie_id_92</th>\n",
              "      <th>movie_id_96</th>\n",
              "      <th>movie_id_101</th>\n",
              "      <th>movie_id_104</th>\n",
              "      <th>movie_id_107</th>\n",
              "      <th>movie_id_110</th>\n",
              "      <th>movie_id_111</th>\n",
              "      <th>movie_id_116</th>\n",
              "      <th>movie_id_122</th>\n",
              "      <th>...</th>\n",
              "      <th>movie_id_1354</th>\n",
              "      <th>movie_id_1356</th>\n",
              "      <th>movie_id_1357</th>\n",
              "      <th>movie_id_1358</th>\n",
              "      <th>movie_id_1361</th>\n",
              "      <th>movie_id_1363</th>\n",
              "      <th>movie_id_1366</th>\n",
              "      <th>movie_id_1367</th>\n",
              "      <th>movie_id_1372</th>\n",
              "      <th>movie_id_1374</th>\n",
              "      <th>movie_id_1376</th>\n",
              "      <th>movie_id_1377</th>\n",
              "      <th>movie_id_1380</th>\n",
              "      <th>movie_id_1381</th>\n",
              "      <th>movie_id_1387</th>\n",
              "      <th>movie_id_1389</th>\n",
              "      <th>movie_id_1393</th>\n",
              "      <th>movie_id_1394</th>\n",
              "      <th>movie_id_1396</th>\n",
              "      <th>movie_id_1398</th>\n",
              "      <th>movie_id_1407</th>\n",
              "      <th>movie_id_1408</th>\n",
              "      <th>movie_id_1411</th>\n",
              "      <th>movie_id_1413</th>\n",
              "      <th>movie_id_1416</th>\n",
              "      <th>movie_id_1423</th>\n",
              "      <th>movie_id_1441</th>\n",
              "      <th>movie_id_1446</th>\n",
              "      <th>movie_id_1449</th>\n",
              "      <th>movie_id_1466</th>\n",
              "      <th>movie_id_1474</th>\n",
              "      <th>movie_id_1485</th>\n",
              "      <th>movie_id_1496</th>\n",
              "      <th>movie_id_1500</th>\n",
              "      <th>movie_id_1513</th>\n",
              "      <th>movie_id_1537</th>\n",
              "      <th>movie_id_1542</th>\n",
              "      <th>movie_id_1544</th>\n",
              "      <th>movie_id_1545</th>\n",
              "      <th>movie_id_1569</th>\n",
              "    </tr>\n",
              "  </thead>\n",
              "  <tbody>\n",
              "    <tr>\n",
              "      <th>0</th>\n",
              "      <td>financial</td>\n",
              "      <td>first</td>\n",
              "      <td>fingered</td>\n",
              "      <td>fingered</td>\n",
              "      <td>firefly</td>\n",
              "      <td>fish</td>\n",
              "      <td>firefly</td>\n",
              "      <td>mindfuck</td>\n",
              "      <td>good</td>\n",
              "      <td>fincher</td>\n",
              "      <td>firefly</td>\n",
              "      <td>first</td>\n",
              "      <td>financial</td>\n",
              "      <td>firefly</td>\n",
              "      <td>firefly</td>\n",
              "      <td>fingered</td>\n",
              "      <td>first</td>\n",
              "      <td>financial</td>\n",
              "      <td>inspirational</td>\n",
              "      <td>firefly</td>\n",
              "      <td>fish</td>\n",
              "      <td>firefly</td>\n",
              "      <td>fingered</td>\n",
              "      <td>firefly</td>\n",
              "      <td>first</td>\n",
              "      <td>fingered</td>\n",
              "      <td>first</td>\n",
              "      <td>firefly</td>\n",
              "      <td>first</td>\n",
              "      <td>firefly</td>\n",
              "      <td>first</td>\n",
              "      <td>firefly</td>\n",
              "      <td>first</td>\n",
              "      <td>firefly</td>\n",
              "      <td>first</td>\n",
              "      <td>firefly</td>\n",
              "      <td>firefly</td>\n",
              "      <td>fingered</td>\n",
              "      <td>first</td>\n",
              "      <td>firefly</td>\n",
              "      <td>...</td>\n",
              "      <td>fingered</td>\n",
              "      <td>firefly</td>\n",
              "      <td>first</td>\n",
              "      <td>fingered</td>\n",
              "      <td>mystery</td>\n",
              "      <td>paul</td>\n",
              "      <td>financial</td>\n",
              "      <td>surreal</td>\n",
              "      <td>fingered</td>\n",
              "      <td>films</td>\n",
              "      <td>firefly</td>\n",
              "      <td>kids</td>\n",
              "      <td>fish</td>\n",
              "      <td>fingered</td>\n",
              "      <td>first</td>\n",
              "      <td>first</td>\n",
              "      <td>visually</td>\n",
              "      <td>fincher</td>\n",
              "      <td>financial</td>\n",
              "      <td>financial</td>\n",
              "      <td>filmed</td>\n",
              "      <td>first</td>\n",
              "      <td>financial</td>\n",
              "      <td>fish</td>\n",
              "      <td>flood</td>\n",
              "      <td>future</td>\n",
              "      <td>films</td>\n",
              "      <td>firefly</td>\n",
              "      <td>firefly</td>\n",
              "      <td>fingered</td>\n",
              "      <td>fincher</td>\n",
              "      <td>fincher</td>\n",
              "      <td>new</td>\n",
              "      <td>financial</td>\n",
              "      <td>fingered</td>\n",
              "      <td>firefly</td>\n",
              "      <td>fingered</td>\n",
              "      <td>firefly</td>\n",
              "      <td>fingered</td>\n",
              "      <td>films</td>\n",
              "    </tr>\n",
              "    <tr>\n",
              "      <th>1</th>\n",
              "      <td>films</td>\n",
              "      <td>firefly</td>\n",
              "      <td>fincher</td>\n",
              "      <td>fincher</td>\n",
              "      <td>fingered</td>\n",
              "      <td>first</td>\n",
              "      <td>fingered</td>\n",
              "      <td>remake</td>\n",
              "      <td>story</td>\n",
              "      <td>financial</td>\n",
              "      <td>fingered</td>\n",
              "      <td>firefly</td>\n",
              "      <td>films</td>\n",
              "      <td>fingered</td>\n",
              "      <td>fingered</td>\n",
              "      <td>fincher</td>\n",
              "      <td>firefly</td>\n",
              "      <td>films</td>\n",
              "      <td>epic</td>\n",
              "      <td>fingered</td>\n",
              "      <td>first</td>\n",
              "      <td>fingered</td>\n",
              "      <td>first</td>\n",
              "      <td>fingered</td>\n",
              "      <td>firefly</td>\n",
              "      <td>fincher</td>\n",
              "      <td>fingered</td>\n",
              "      <td>fingered</td>\n",
              "      <td>firefly</td>\n",
              "      <td>fingered</td>\n",
              "      <td>firefly</td>\n",
              "      <td>fingered</td>\n",
              "      <td>firefly</td>\n",
              "      <td>fingered</td>\n",
              "      <td>firefly</td>\n",
              "      <td>fingered</td>\n",
              "      <td>fingered</td>\n",
              "      <td>fincher</td>\n",
              "      <td>firefly</td>\n",
              "      <td>fingered</td>\n",
              "      <td>...</td>\n",
              "      <td>fincher</td>\n",
              "      <td>fingered</td>\n",
              "      <td>firefly</td>\n",
              "      <td>fincher</td>\n",
              "      <td>tom</td>\n",
              "      <td>fairy</td>\n",
              "      <td>films</td>\n",
              "      <td>fantasy</td>\n",
              "      <td>fincher</td>\n",
              "      <td>flick</td>\n",
              "      <td>fingered</td>\n",
              "      <td>one</td>\n",
              "      <td>first</td>\n",
              "      <td>on</td>\n",
              "      <td>firefly</td>\n",
              "      <td>firefly</td>\n",
              "      <td>appealing</td>\n",
              "      <td>financial</td>\n",
              "      <td>films</td>\n",
              "      <td>films</td>\n",
              "      <td>francis</td>\n",
              "      <td>firefly</td>\n",
              "      <td>films</td>\n",
              "      <td>first</td>\n",
              "      <td>gold</td>\n",
              "      <td>development</td>\n",
              "      <td>filmed</td>\n",
              "      <td>fingered</td>\n",
              "      <td>fingered</td>\n",
              "      <td>fincher</td>\n",
              "      <td>financial</td>\n",
              "      <td>financial</td>\n",
              "      <td>predictable</td>\n",
              "      <td>films</td>\n",
              "      <td>fincher</td>\n",
              "      <td>cinematography</td>\n",
              "      <td>fincher</td>\n",
              "      <td>fingered</td>\n",
              "      <td>fincher</td>\n",
              "      <td>filmed</td>\n",
              "    </tr>\n",
              "    <tr>\n",
              "      <th>2</th>\n",
              "      <td>family</td>\n",
              "      <td>fingered</td>\n",
              "      <td>financial</td>\n",
              "      <td>financial</td>\n",
              "      <td>fincher</td>\n",
              "      <td>firefly</td>\n",
              "      <td>fincher</td>\n",
              "      <td>brad</td>\n",
              "      <td>animal</td>\n",
              "      <td>films</td>\n",
              "      <td>fincher</td>\n",
              "      <td>fingered</td>\n",
              "      <td>filmed</td>\n",
              "      <td>fincher</td>\n",
              "      <td>fincher</td>\n",
              "      <td>financial</td>\n",
              "      <td>fingered</td>\n",
              "      <td>filmed</td>\n",
              "      <td>gibson</td>\n",
              "      <td>fincher</td>\n",
              "      <td>firefly</td>\n",
              "      <td>fincher</td>\n",
              "      <td>firefly</td>\n",
              "      <td>fincher</td>\n",
              "      <td>fingered</td>\n",
              "      <td>financial</td>\n",
              "      <td>zooey</td>\n",
              "      <td>fincher</td>\n",
              "      <td>fingered</td>\n",
              "      <td>fincher</td>\n",
              "      <td>fingered</td>\n",
              "      <td>fincher</td>\n",
              "      <td>fingered</td>\n",
              "      <td>fincher</td>\n",
              "      <td>fingered</td>\n",
              "      <td>fincher</td>\n",
              "      <td>fincher</td>\n",
              "      <td>financial</td>\n",
              "      <td>fingered</td>\n",
              "      <td>fincher</td>\n",
              "      <td>...</td>\n",
              "      <td>financial</td>\n",
              "      <td>fincher</td>\n",
              "      <td>fingered</td>\n",
              "      <td>financial</td>\n",
              "      <td>hanks</td>\n",
              "      <td>night</td>\n",
              "      <td>filmed</td>\n",
              "      <td>will</td>\n",
              "      <td>financial</td>\n",
              "      <td>financial</td>\n",
              "      <td>fincher</td>\n",
              "      <td>everyone</td>\n",
              "      <td>firefly</td>\n",
              "      <td>based</td>\n",
              "      <td>fingered</td>\n",
              "      <td>fingered</td>\n",
              "      <td>cerebral</td>\n",
              "      <td>films</td>\n",
              "      <td>filmed</td>\n",
              "      <td>filmed</td>\n",
              "      <td>franchise</td>\n",
              "      <td>fingered</td>\n",
              "      <td>filmed</td>\n",
              "      <td>firefly</td>\n",
              "      <td>surreal</td>\n",
              "      <td>simon</td>\n",
              "      <td>film</td>\n",
              "      <td>fincher</td>\n",
              "      <td>fincher</td>\n",
              "      <td>financial</td>\n",
              "      <td>films</td>\n",
              "      <td>films</td>\n",
              "      <td>writing</td>\n",
              "      <td>flood</td>\n",
              "      <td>financial</td>\n",
              "      <td>leonardo</td>\n",
              "      <td>financial</td>\n",
              "      <td>fincher</td>\n",
              "      <td>financial</td>\n",
              "      <td>film</td>\n",
              "    </tr>\n",
              "    <tr>\n",
              "      <th>3</th>\n",
              "      <td>far</td>\n",
              "      <td>fincher</td>\n",
              "      <td>films</td>\n",
              "      <td>films</td>\n",
              "      <td>financial</td>\n",
              "      <td>fingered</td>\n",
              "      <td>financial</td>\n",
              "      <td>pitt</td>\n",
              "      <td>not</td>\n",
              "      <td>filmed</td>\n",
              "      <td>financial</td>\n",
              "      <td>fincher</td>\n",
              "      <td>film</td>\n",
              "      <td>financial</td>\n",
              "      <td>financial</td>\n",
              "      <td>films</td>\n",
              "      <td>fincher</td>\n",
              "      <td>film</td>\n",
              "      <td>mel</td>\n",
              "      <td>financial</td>\n",
              "      <td>fingered</td>\n",
              "      <td>financial</td>\n",
              "      <td>zooey</td>\n",
              "      <td>financial</td>\n",
              "      <td>fincher</td>\n",
              "      <td>films</td>\n",
              "      <td>new</td>\n",
              "      <td>financial</td>\n",
              "      <td>fincher</td>\n",
              "      <td>financial</td>\n",
              "      <td>fincher</td>\n",
              "      <td>financial</td>\n",
              "      <td>fincher</td>\n",
              "      <td>financial</td>\n",
              "      <td>fincher</td>\n",
              "      <td>financial</td>\n",
              "      <td>financial</td>\n",
              "      <td>films</td>\n",
              "      <td>fincher</td>\n",
              "      <td>financial</td>\n",
              "      <td>...</td>\n",
              "      <td>films</td>\n",
              "      <td>financial</td>\n",
              "      <td>fincher</td>\n",
              "      <td>films</td>\n",
              "      <td>conspiracy</td>\n",
              "      <td>giamatti</td>\n",
              "      <td>film</td>\n",
              "      <td>romance</td>\n",
              "      <td>films</td>\n",
              "      <td>leonardo</td>\n",
              "      <td>financial</td>\n",
              "      <td>something</td>\n",
              "      <td>fingered</td>\n",
              "      <td>creepy</td>\n",
              "      <td>fincher</td>\n",
              "      <td>fincher</td>\n",
              "      <td>gritty</td>\n",
              "      <td>filmed</td>\n",
              "      <td>film</td>\n",
              "      <td>flood</td>\n",
              "      <td>france</td>\n",
              "      <td>fincher</td>\n",
              "      <td>flood</td>\n",
              "      <td>fingered</td>\n",
              "      <td>creepy</td>\n",
              "      <td>pegg</td>\n",
              "      <td>fish</td>\n",
              "      <td>financial</td>\n",
              "      <td>financial</td>\n",
              "      <td>films</td>\n",
              "      <td>flood</td>\n",
              "      <td>filmed</td>\n",
              "      <td>dystopia</td>\n",
              "      <td>witty</td>\n",
              "      <td>films</td>\n",
              "      <td>tom</td>\n",
              "      <td>films</td>\n",
              "      <td>financial</td>\n",
              "      <td>films</td>\n",
              "      <td>fillion</td>\n",
              "    </tr>\n",
              "    <tr>\n",
              "      <th>4</th>\n",
              "      <td>fantasy</td>\n",
              "      <td>financial</td>\n",
              "      <td>filmed</td>\n",
              "      <td>filmed</td>\n",
              "      <td>films</td>\n",
              "      <td>fincher</td>\n",
              "      <td>films</td>\n",
              "      <td>willis</td>\n",
              "      <td>for</td>\n",
              "      <td>film</td>\n",
              "      <td>films</td>\n",
              "      <td>financial</td>\n",
              "      <td>flick</td>\n",
              "      <td>films</td>\n",
              "      <td>films</td>\n",
              "      <td>filmed</td>\n",
              "      <td>financial</td>\n",
              "      <td>flood</td>\n",
              "      <td>scenery</td>\n",
              "      <td>films</td>\n",
              "      <td>fincher</td>\n",
              "      <td>films</td>\n",
              "      <td>leonardo</td>\n",
              "      <td>films</td>\n",
              "      <td>financial</td>\n",
              "      <td>filmed</td>\n",
              "      <td>york</td>\n",
              "      <td>films</td>\n",
              "      <td>financial</td>\n",
              "      <td>films</td>\n",
              "      <td>financial</td>\n",
              "      <td>films</td>\n",
              "      <td>financial</td>\n",
              "      <td>films</td>\n",
              "      <td>financial</td>\n",
              "      <td>films</td>\n",
              "      <td>films</td>\n",
              "      <td>filmed</td>\n",
              "      <td>financial</td>\n",
              "      <td>films</td>\n",
              "      <td>...</td>\n",
              "      <td>filmed</td>\n",
              "      <td>films</td>\n",
              "      <td>financial</td>\n",
              "      <td>filmed</td>\n",
              "      <td>hunt</td>\n",
              "      <td>shyamalan</td>\n",
              "      <td>flood</td>\n",
              "      <td>ferrell</td>\n",
              "      <td>filmed</td>\n",
              "      <td>dicaprio</td>\n",
              "      <td>films</td>\n",
              "      <td>plan</td>\n",
              "      <td>fincher</td>\n",
              "      <td>paranoia</td>\n",
              "      <td>financial</td>\n",
              "      <td>financial</td>\n",
              "      <td>long</td>\n",
              "      <td>flood</td>\n",
              "      <td>flick</td>\n",
              "      <td>zooey</td>\n",
              "      <td>comedy</td>\n",
              "      <td>financial</td>\n",
              "      <td>surreal</td>\n",
              "      <td>fincher</td>\n",
              "      <td>fairy</td>\n",
              "      <td>cuts</td>\n",
              "      <td>stylized</td>\n",
              "      <td>films</td>\n",
              "      <td>films</td>\n",
              "      <td>filmed</td>\n",
              "      <td>military</td>\n",
              "      <td>food</td>\n",
              "      <td>anti</td>\n",
              "      <td>seth</td>\n",
              "      <td>filmed</td>\n",
              "      <td>survival</td>\n",
              "      <td>filmed</td>\n",
              "      <td>films</td>\n",
              "      <td>filmed</td>\n",
              "      <td>flick</td>\n",
              "    </tr>\n",
              "  </tbody>\n",
              "</table>\n",
              "<p>5 rows × 409 columns</p>\n",
              "</div>"
            ],
            "text/plain": [
              "  movie_id_1 movie_id_2 movie_id_3  ... movie_id_1544 movie_id_1545 movie_id_1569\n",
              "0  financial      first   fingered  ...       firefly      fingered         films\n",
              "1      films    firefly    fincher  ...      fingered       fincher        filmed\n",
              "2     family   fingered  financial  ...       fincher     financial          film\n",
              "3        far    fincher      films  ...     financial         films       fillion\n",
              "4    fantasy  financial     filmed  ...         films        filmed         flick\n",
              "\n",
              "[5 rows x 409 columns]"
            ]
          },
          "metadata": {
            "tags": []
          },
          "execution_count": 44
        }
      ]
    }
  ]
}